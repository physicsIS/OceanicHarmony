{
 "cells": [
  {
   "cell_type": "code",
   "execution_count": 1,
   "id": "595ddb5e-6186-45aa-8a79-acc4be8d6286",
   "metadata": {},
   "outputs": [],
   "source": [
    "# Librerías a usar:\n",
    "import numpy as np \n",
    "import pandas as pd \n",
    "import matplotlib.pyplot as plt "
   ]
  },
  {
   "cell_type": "code",
   "execution_count": 2,
   "id": "1bacbb05-bc6d-4343-85e2-1823c4550389",
   "metadata": {},
   "outputs": [],
   "source": [
    "# Leer archivo: \n",
    "df = pd.read_csv(\"Radar_Sensor_V2.dat\") "
   ]
  },
  {
   "cell_type": "code",
   "execution_count": 3,
   "id": "fb198de7-77d0-4dd0-aaf5-e580b4359700",
   "metadata": {},
   "outputs": [
    {
     "data": {
      "text/html": [
       "<div>\n",
       "<style scoped>\n",
       "    .dataframe tbody tr th:only-of-type {\n",
       "        vertical-align: middle;\n",
       "    }\n",
       "\n",
       "    .dataframe tbody tr th {\n",
       "        vertical-align: top;\n",
       "    }\n",
       "\n",
       "    .dataframe thead th {\n",
       "        text-align: right;\n",
       "    }\n",
       "</style>\n",
       "<table border=\"1\" class=\"dataframe\">\n",
       "  <thead>\n",
       "    <tr style=\"text-align: right;\">\n",
       "      <th></th>\n",
       "      <th>TOA5</th>\n",
       "      <th>CR300cellular</th>\n",
       "      <th>CR300</th>\n",
       "      <th>8544</th>\n",
       "      <th>CR310.Std.10.02</th>\n",
       "      <th>CPU:UniversidadCostaRica_Settings_V1.4.CR300</th>\n",
       "      <th>54689</th>\n",
       "      <th>NileData</th>\n",
       "    </tr>\n",
       "  </thead>\n",
       "  <tbody>\n",
       "    <tr>\n",
       "      <th>0</th>\n",
       "      <td>TIMESTAMP</td>\n",
       "      <td>RECORD</td>\n",
       "      <td>Nile_Stage</td>\n",
       "      <td>Nile_Distance_ft</td>\n",
       "      <td>Nile_Status</td>\n",
       "      <td>Nile_Cable_V</td>\n",
       "      <td>CalculatedStage</td>\n",
       "      <td>NaN</td>\n",
       "    </tr>\n",
       "    <tr>\n",
       "      <th>1</th>\n",
       "      <td>TS</td>\n",
       "      <td>RN</td>\n",
       "      <td>NaN</td>\n",
       "      <td>NaN</td>\n",
       "      <td>NaN</td>\n",
       "      <td>NaN</td>\n",
       "      <td>NaN</td>\n",
       "      <td>NaN</td>\n",
       "    </tr>\n",
       "    <tr>\n",
       "      <th>2</th>\n",
       "      <td>NaN</td>\n",
       "      <td>NaN</td>\n",
       "      <td>Smp</td>\n",
       "      <td>Smp</td>\n",
       "      <td>Smp</td>\n",
       "      <td>Smp</td>\n",
       "      <td>Smp</td>\n",
       "      <td>NaN</td>\n",
       "    </tr>\n",
       "    <tr>\n",
       "      <th>3</th>\n",
       "      <td>2023-04-03 02:15:05</td>\n",
       "      <td>-10.41</td>\n",
       "      <td>10.41</td>\n",
       "      <td>0</td>\n",
       "      <td>12.9</td>\n",
       "      <td>-10.41</td>\n",
       "      <td>NaN</td>\n",
       "      <td>NaN</td>\n",
       "    </tr>\n",
       "    <tr>\n",
       "      <th>4</th>\n",
       "      <td>2023-04-03 02:30:05</td>\n",
       "      <td>-10.76</td>\n",
       "      <td>10.76</td>\n",
       "      <td>0</td>\n",
       "      <td>12.9</td>\n",
       "      <td>-10.76</td>\n",
       "      <td>NaN</td>\n",
       "      <td>NaN</td>\n",
       "    </tr>\n",
       "  </tbody>\n",
       "</table>\n",
       "</div>"
      ],
      "text/plain": [
       "                  TOA5 CR300cellular       CR300              8544  \\\n",
       "0            TIMESTAMP        RECORD  Nile_Stage  Nile_Distance_ft   \n",
       "1                   TS            RN         NaN               NaN   \n",
       "2                  NaN           NaN         Smp               Smp   \n",
       "3  2023-04-03 02:15:05        -10.41       10.41                 0   \n",
       "4  2023-04-03 02:30:05        -10.76       10.76                 0   \n",
       "\n",
       "  CR310.Std.10.02 CPU:UniversidadCostaRica_Settings_V1.4.CR300  \\\n",
       "0     Nile_Status                                 Nile_Cable_V   \n",
       "1             NaN                                          NaN   \n",
       "2             Smp                                          Smp   \n",
       "3            12.9                                       -10.41   \n",
       "4            12.9                                       -10.76   \n",
       "\n",
       "             54689  NileData  \n",
       "0  CalculatedStage       NaN  \n",
       "1              NaN       NaN  \n",
       "2              Smp       NaN  \n",
       "3              NaN       NaN  \n",
       "4              NaN       NaN  "
      ]
     },
     "execution_count": 3,
     "metadata": {},
     "output_type": "execute_result"
    }
   ],
   "source": [
    "# Previsualización:\n",
    "df.head()"
   ]
  },
  {
   "cell_type": "code",
   "execution_count": 4,
   "id": "f9701c1a-b2f3-4f39-9d5e-86cee3411d41",
   "metadata": {},
   "outputs": [
    {
     "name": "stdout",
     "output_type": "stream",
     "text": [
      "<class 'pandas.core.frame.DataFrame'>\n",
      "RangeIndex: 63367 entries, 0 to 63366\n",
      "Data columns (total 8 columns):\n",
      " #   Column                                        Non-Null Count  Dtype  \n",
      "---  ------                                        --------------  -----  \n",
      " 0   TOA5                                          63366 non-null  object \n",
      " 1   CR300cellular                                 63366 non-null  object \n",
      " 2   CR300                                         63366 non-null  object \n",
      " 3   8544                                          63366 non-null  object \n",
      " 4   CR310.Std.10.02                               63366 non-null  object \n",
      " 5   CPU:UniversidadCostaRica_Settings_V1.4.CR300  63366 non-null  object \n",
      " 6   54689                                         62311 non-null  object \n",
      " 7   NileData                                      0 non-null      float64\n",
      "dtypes: float64(1), object(7)\n",
      "memory usage: 3.9+ MB\n"
     ]
    }
   ],
   "source": [
    "# Información general:\n",
    "df.info()"
   ]
  },
  {
   "cell_type": "code",
   "execution_count": 5,
   "id": "d96f225f-2a9f-47b4-9d6d-3bd4546f7043",
   "metadata": {},
   "outputs": [],
   "source": [
    "# Eliminar la última colunma:\n",
    "df.drop(columns= [\"NileData\"], inplace = True)"
   ]
  },
  {
   "cell_type": "code",
   "execution_count": 6,
   "id": "ff1dd016-7adf-47a3-99d4-2cb98d090b4d",
   "metadata": {},
   "outputs": [
    {
     "name": "stdout",
     "output_type": "stream",
     "text": [
      "<class 'pandas.core.frame.DataFrame'>\n",
      "RangeIndex: 63367 entries, 0 to 63366\n",
      "Data columns (total 7 columns):\n",
      " #   Column                                        Non-Null Count  Dtype \n",
      "---  ------                                        --------------  ----- \n",
      " 0   TOA5                                          63366 non-null  object\n",
      " 1   CR300cellular                                 63366 non-null  object\n",
      " 2   CR300                                         63366 non-null  object\n",
      " 3   8544                                          63366 non-null  object\n",
      " 4   CR310.Std.10.02                               63366 non-null  object\n",
      " 5   CPU:UniversidadCostaRica_Settings_V1.4.CR300  63366 non-null  object\n",
      " 6   54689                                         62311 non-null  object\n",
      "dtypes: object(7)\n",
      "memory usage: 3.4+ MB\n"
     ]
    }
   ],
   "source": [
    "# Verificación: \n",
    "df.info()"
   ]
  },
  {
   "cell_type": "code",
   "execution_count": 7,
   "id": "323bc8ab-8bda-478c-b384-9237d54733a9",
   "metadata": {},
   "outputs": [],
   "source": [
    "# Identificar valores vacíos, NaN, ... y modificarlos: \n",
    "df.replace([\"\",\"Na\", \"NaN\", \"-\",], pd.NA, inplace = True)"
   ]
  },
  {
   "cell_type": "code",
   "execution_count": 8,
   "id": "7d70c9d3-1a6c-40aa-9e59-3d46127caaf2",
   "metadata": {},
   "outputs": [],
   "source": [
    "# Renombrar las columnas:\n",
    "df.columns = [\"Datetime\", \"Record\", \"Nile_Stage\", \"Nile_Distance\", \"Nile_Status\", \"Nile_Cable\", \"Calculated_Stage\"] "
   ]
  },
  {
   "cell_type": "code",
   "execution_count": 9,
   "id": "732a983b-8b96-49f6-b774-7d1d344d5fff",
   "metadata": {},
   "outputs": [],
   "source": [
    "# Asignar valores float/Datetime: \n",
    "df[\"Datetime\"] = pd.to_datetime(df[\"Datetime\"], format = \"%Y-%m-%d %H:%M:%S\", errors = \"coerce\") \n",
    "df[\"Record\"] = pd.to_numeric(df[\"Record\"], errors = \"coerce\") \n",
    "df[\"Nile_Stage\"] = pd.to_numeric(df[\"Nile_Stage\"], errors = \"coerce\") \n",
    "df[\"Nile_Distance\"] = pd.to_numeric(df[\"Nile_Distance\"], errors = \"coerce\") \n",
    "df[\"Nile_Status\"] = pd.to_numeric(df[\"Nile_Status\"], errors = \"coerce\") \n",
    "df[\"Nile_Cable\"] = pd.to_numeric(df[\"Nile_Cable\"], errors = \"coerce\") \n",
    "df[\"Calculated_Stage\"] = pd.to_numeric(df[\"Calculated_Stage\"], errors = \"coerce\") "
   ]
  },
  {
   "cell_type": "code",
   "execution_count": 10,
   "id": "2c788ee1-e737-4f58-a3e6-b156a4750a9b",
   "metadata": {},
   "outputs": [
    {
     "name": "stdout",
     "output_type": "stream",
     "text": [
      "<class 'pandas.core.frame.DataFrame'>\n",
      "RangeIndex: 63367 entries, 0 to 63366\n",
      "Data columns (total 7 columns):\n",
      " #   Column            Non-Null Count  Dtype         \n",
      "---  ------            --------------  -----         \n",
      " 0   Datetime          63364 non-null  datetime64[ns]\n",
      " 1   Record            63364 non-null  float64       \n",
      " 2   Nile_Stage        63362 non-null  float64       \n",
      " 3   Nile_Distance     63364 non-null  float64       \n",
      " 4   Nile_Status       63364 non-null  float64       \n",
      " 5   Nile_Cable        63364 non-null  float64       \n",
      " 6   Calculated_Stage  62307 non-null  float64       \n",
      "dtypes: datetime64[ns](1), float64(6)\n",
      "memory usage: 3.4 MB\n"
     ]
    }
   ],
   "source": [
    "# Verificación: \n",
    "df.info()"
   ]
  },
  {
   "cell_type": "code",
   "execution_count": 11,
   "id": "0beeaeb0-b736-45bc-81d8-7c7104456f26",
   "metadata": {},
   "outputs": [
    {
     "data": {
      "text/plain": [
       "count                            63364\n",
       "mean     2024-05-01 06:51:09.657865728\n",
       "min                2023-04-03 02:15:05\n",
       "25%                2023-10-06 21:11:20\n",
       "50%                2024-03-19 21:22:35\n",
       "75%                2024-09-01 05:48:50\n",
       "max                2025-08-07 11:00:05\n",
       "Name: Datetime, dtype: object"
      ]
     },
     "execution_count": 11,
     "metadata": {},
     "output_type": "execute_result"
    }
   ],
   "source": [
    "# Datos estadísticos temporales: \n",
    "df[\"Datetime\"].describe()"
   ]
  },
  {
   "cell_type": "code",
   "execution_count": 12,
   "id": "6f3d0adc-a6ee-4c11-a31d-7ee053b9e803",
   "metadata": {},
   "outputs": [
    {
     "name": "stdout",
     "output_type": "stream",
     "text": [
      "181 days 22:30:00\n"
     ]
    }
   ],
   "source": [
    "#Verificación vacío temporal:\n",
    "df[\"gap\"] = df[\"Datetime\"].diff()\n",
    "print(df[\"gap\"].max())"
   ]
  },
  {
   "cell_type": "code",
   "execution_count": 13,
   "id": "614d909f-ac1b-40db-96f9-69092d9cd822",
   "metadata": {},
   "outputs": [
    {
     "name": "stdout",
     "output_type": "stream",
     "text": [
      "Fecha antes del hueco: 2024-09-10 13:00:05\n",
      "Fecha después del hueco: 2025-03-11 11:30:05\n",
      "Duración del hueco: 181 days 22:30:00\n"
     ]
    }
   ],
   "source": [
    "# Encontrar la fila con el mayor vacío:\n",
    "idx_gap = df[\"gap\"].idxmax()\n",
    "\n",
    "# Mostrar la fecha justo antes y después del hueco:\n",
    "print(\"Fecha antes del hueco:\", df.loc[idx_gap - 1, \"Datetime\"])\n",
    "print(\"Fecha después del hueco:\", df.loc[idx_gap, \"Datetime\"])\n",
    "print(\"Duración del hueco:\", df.loc[idx_gap, \"gap\"])"
   ]
  },
  {
   "cell_type": "code",
   "execution_count": 14,
   "id": "9b6b0440-f563-445f-beb2-20437c9d631d",
   "metadata": {},
   "outputs": [
    {
     "data": {
      "image/png": "[encoded data removed]",
      "text/plain": [
       "<Figure size 640x480 with 1 Axes>"
      ]
     },
     "metadata": {},
     "output_type": "display_data"
    }
   ],
   "source": [
    "# Gráfica Tide Level (m) vs Datetime:\n",
    "datetime = df[\"Datetime\"]\n",
    "tide_level = df[\"Calculated_Stage\"] \n",
    "plt.plot(datetime, tide_level)\n",
    "plt.xlabel(\"Datetime\")\n",
    "plt.ylabel(\"Tide Level (ft)\")\n",
    "plt.title(\"Tide level (ft) vs Datetime\")\n",
    "plt.show()"
   ]
  },
  {
   "cell_type": "code",
   "execution_count": 15,
   "id": "74d4fb37-cb4c-4dfb-98c6-fbd84a808815",
   "metadata": {},
   "outputs": [
    {
     "data": {
      "text/plain": [
       "count    62307.000000\n",
       "mean       -12.365312\n",
       "std          2.313481\n",
       "min       -100.000000\n",
       "25%        -14.350000\n",
       "50%        -12.370000\n",
       "75%        -10.380000\n",
       "max         -6.835000\n",
       "Name: Calculated_Stage, dtype: float64"
      ]
     },
     "execution_count": 15,
     "metadata": {},
     "output_type": "execute_result"
    }
   ],
   "source": [
    "# Datos estadísticos Calculated Stage:\n",
    "df[\"Calculated_Stage\"].describe()"
   ]
  },
  {
   "cell_type": "code",
   "execution_count": 16,
   "id": "2cc712d7-21aa-4e47-b1cd-f1e951faacf5",
   "metadata": {},
   "outputs": [
    {
     "data": {
      "text/plain": [
       "count    63362.000000\n",
       "mean       -11.956785\n",
       "std          3.894891\n",
       "min       -100.000000\n",
       "25%        -14.320000\n",
       "50%        -12.290000\n",
       "75%        -10.300000\n",
       "max         15.680000\n",
       "Name: Nile_Stage, dtype: float64"
      ]
     },
     "execution_count": 16,
     "metadata": {},
     "output_type": "execute_result"
    }
   ],
   "source": [
    "# El Nile Stage es la altura fija del sensor con respecto a un punto a referencia, un \"datum\".\n",
    "# El sensor se colocó encima del datum por lo que los datos aparecen en negativo.\n",
    "df[\"Nile_Stage\"].describe()"
   ]
  },
  {
   "cell_type": "code",
   "execution_count": 17,
   "id": "6be7998f-302c-4c88-88f6-6544cb1151a3",
   "metadata": {},
   "outputs": [],
   "source": [
    "# El mínimo de -100 no es un dato real. "
   ]
  },
  {
   "cell_type": "code",
   "execution_count": 18,
   "id": "ac8d0bd3-e3d8-4855-9d6b-ab8cc081ca92",
   "metadata": {},
   "outputs": [
    {
     "data": {
      "text/html": [
       "<div>\n",
       "<style scoped>\n",
       "    .dataframe tbody tr th:only-of-type {\n",
       "        vertical-align: middle;\n",
       "    }\n",
       "\n",
       "    .dataframe tbody tr th {\n",
       "        vertical-align: top;\n",
       "    }\n",
       "\n",
       "    .dataframe thead th {\n",
       "        text-align: right;\n",
       "    }\n",
       "</style>\n",
       "<table border=\"1\" class=\"dataframe\">\n",
       "  <thead>\n",
       "    <tr style=\"text-align: right;\">\n",
       "      <th></th>\n",
       "      <th>Datetime</th>\n",
       "      <th>Record</th>\n",
       "      <th>Nile_Stage</th>\n",
       "      <th>Nile_Distance</th>\n",
       "      <th>Nile_Status</th>\n",
       "      <th>Nile_Cable</th>\n",
       "      <th>Calculated_Stage</th>\n",
       "      <th>gap</th>\n",
       "    </tr>\n",
       "  </thead>\n",
       "  <tbody>\n",
       "    <tr>\n",
       "      <th>33271</th>\n",
       "      <td>2024-04-05 10:00:05</td>\n",
       "      <td>31943.0</td>\n",
       "      <td>-100.0</td>\n",
       "      <td>-100.0</td>\n",
       "      <td>1.0</td>\n",
       "      <td>13.8</td>\n",
       "      <td>-100.0</td>\n",
       "      <td>0 days 00:15:00</td>\n",
       "    </tr>\n",
       "  </tbody>\n",
       "</table>\n",
       "</div>"
      ],
      "text/plain": [
       "                 Datetime   Record  Nile_Stage  Nile_Distance  Nile_Status  \\\n",
       "33271 2024-04-05 10:00:05  31943.0      -100.0         -100.0          1.0   \n",
       "\n",
       "       Nile_Cable  Calculated_Stage             gap  \n",
       "33271        13.8            -100.0 0 days 00:15:00  "
      ]
     },
     "execution_count": 18,
     "metadata": {},
     "output_type": "execute_result"
    }
   ],
   "source": [
    "# Buscar ese dato: \n",
    "df[df[\"Nile_Stage\"] == -100.00]"
   ]
  },
  {
   "cell_type": "code",
   "execution_count": 19,
   "id": "d10fd313-fd6b-40b7-b15d-ec345ab11079",
   "metadata": {},
   "outputs": [],
   "source": [
    "# Borrarlo:\n",
    "df = df.drop(index=33271) \n"
   ]
  },
  {
   "cell_type": "code",
   "execution_count": 20,
   "id": "8df7d932-3f79-4d91-9c70-e47392df5abe",
   "metadata": {},
   "outputs": [
    {
     "data": {
      "text/plain": [
       "count    63361.000000\n",
       "mean       -11.955396\n",
       "std          3.879184\n",
       "min        -18.050000\n",
       "25%        -14.320000\n",
       "50%        -12.290000\n",
       "75%        -10.300000\n",
       "max         15.680000\n",
       "Name: Nile_Stage, dtype: float64"
      ]
     },
     "execution_count": 20,
     "metadata": {},
     "output_type": "execute_result"
    }
   ],
   "source": [
    "# Verificación:\n",
    "df[\"Nile_Stage\"].describe()"
   ]
  },
  {
   "cell_type": "code",
   "execution_count": 21,
   "id": "14179cdb-29f7-4afa-b913-39e2f8a665ed",
   "metadata": {},
   "outputs": [
    {
     "data": {
      "text/plain": [
       "count    62306.000000\n",
       "mean       -12.363905\n",
       "std          2.286704\n",
       "min        -18.050000\n",
       "25%        -14.350000\n",
       "50%        -12.370000\n",
       "75%        -10.380000\n",
       "max         -6.835000\n",
       "Name: Calculated_Stage, dtype: float64"
      ]
     },
     "execution_count": 21,
     "metadata": {},
     "output_type": "execute_result"
    }
   ],
   "source": [
    "# Verificación:\n",
    "df[\"Calculated_Stage\"].describe()"
   ]
  },
  {
   "cell_type": "code",
   "execution_count": 22,
   "id": "d6548022-f0a6-44bf-bf08-2d7f5cd51a3e",
   "metadata": {},
   "outputs": [
    {
     "data": {
      "image/png": "[encoded data removed]",
      "text/plain": [
       "<Figure size 640x480 with 1 Axes>"
      ]
     },
     "metadata": {},
     "output_type": "display_data"
    }
   ],
   "source": [
    "# Gráfica Tide Level (m) vs Datetime:\n",
    "datetime = df[\"Datetime\"]\n",
    "tide_level = df[\"Calculated_Stage\"] \n",
    "plt.plot(datetime, tide_level)\n",
    "plt.xlabel(\"Datetime\")\n",
    "plt.ylabel(\"Tide Level (ft)\")\n",
    "plt.title(\"Tide level (ft) vs Datetime\")\n",
    "plt.show()"
   ]
  },
  {
   "cell_type": "code",
   "execution_count": 28,
   "id": "4183e882-e16f-4c70-9d90-3f66708b859e",
   "metadata": {},
   "outputs": [],
   "source": [
    "# Eliminar columnas no necesarias:\n",
    "#df.drop(columns= [\"gap\"], inplace = True)\n",
    "#df.drop(columns= [\"error\"], inplace = True)"
   ]
  },
  {
   "cell_type": "code",
   "execution_count": 29,
   "id": "74c9a637-df4f-4573-b9e9-ea5d26a64233",
   "metadata": {},
   "outputs": [
    {
     "name": "stdout",
     "output_type": "stream",
     "text": [
      "<class 'pandas.core.frame.DataFrame'>\n",
      "Index: 63366 entries, 0 to 63366\n",
      "Data columns (total 7 columns):\n",
      " #   Column            Non-Null Count  Dtype         \n",
      "---  ------            --------------  -----         \n",
      " 0   Datetime          63363 non-null  datetime64[ns]\n",
      " 1   Record            63363 non-null  float64       \n",
      " 2   Nile_Stage        63361 non-null  float64       \n",
      " 3   Nile_Distance     63363 non-null  float64       \n",
      " 4   Nile_Status       63363 non-null  float64       \n",
      " 5   Nile_Cable        63363 non-null  float64       \n",
      " 6   Calculated_Stage  62306 non-null  float64       \n",
      "dtypes: datetime64[ns](1), float64(6)\n",
      "memory usage: 3.9 MB\n"
     ]
    }
   ],
   "source": [
    "# Verificación:\n",
    "df.info()"
   ]
  },
  {
   "cell_type": "code",
   "execution_count": 24,
   "id": "1777f97c-fb09-4efd-a31e-1b2e1985d530",
   "metadata": {},
   "outputs": [
    {
     "data": {
      "image/png": "[encoded data removed]",
      "text/plain": [
       "<Figure size 640x480 with 1 Axes>"
      ]
     },
     "metadata": {},
     "output_type": "display_data"
    }
   ],
   "source": [
    "# Gráfica Nile Distance (ft) vs Datetime:\n",
    "datetime = df[\"Datetime\"]\n",
    "tide_level = df[\"Nile_Distance\"] \n",
    "plt.plot(datetime, tide_level)\n",
    "plt.xlabel(\"Datetime\")\n",
    "plt.ylabel(\"Nile Distance (ft)\")\n",
    "plt.title(\"Nile Distance (ft) vs Datetime\")\n",
    "plt.show()"
   ]
  },
  {
   "cell_type": "code",
   "execution_count": 27,
   "id": "42b09b1d-54de-4122-b62b-983365ed2c9e",
   "metadata": {},
   "outputs": [
    {
     "data": {
      "text/plain": [
       "count    63363.000000\n",
       "mean        12.157902\n",
       "std          2.765008\n",
       "min          0.000000\n",
       "25%         10.300000\n",
       "50%         12.290000\n",
       "75%         14.320000\n",
       "max         18.050000\n",
       "Name: Nile_Distance, dtype: float64"
      ]
     },
     "execution_count": 27,
     "metadata": {},
     "output_type": "execute_result"
    }
   ],
   "source": [
    "df[\"Nile_Distance\"].describe()"
   ]
  },
  {
   "cell_type": "code",
   "execution_count": null,
   "id": "070a4166-ca8b-4ed6-90c6-4e763bb1d405",
   "metadata": {},
   "outputs": [],
   "source": []
  },
  {
   "cell_type": "code",
   "execution_count": null,
   "id": "a6144e10-cf8a-4b29-82d0-50edd3e96b54",
   "metadata": {},
   "outputs": [],
   "source": []
  }
 ],
 "metadata": {
  "kernelspec": {
   "display_name": "Python 3 (ipykernel)",
   "language": "python",
   "name": "python3"
  },
  "language_info": {
   "codemirror_mode": {
    "name": "ipython",
    "version": 3
   },
   "file_extension": ".py",
   "mimetype": "text/x-python",
   "name": "python",
   "nbconvert_exporter": "python",
   "pygments_lexer": "ipython3",
   "version": "3.13.5"
  }
 },
 "nbformat": 4,
 "nbformat_minor": 5
}
